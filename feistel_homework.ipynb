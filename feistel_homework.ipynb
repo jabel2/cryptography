{
 "cells": [
  {
   "cell_type": "code",
   "execution_count": 18,
   "metadata": {},
   "outputs": [],
   "source": [
    "def round_function(x,k):\n",
    "    # we need to convert binary to int\n",
    "    x_int = int(x,2)\n",
    "    k_int = int(k,2)\n",
    "    # perform the multiplication\n",
    "    ret_int = x_int * k_int\n",
    "    # convert it back to binary\n",
    "    ret = bin(ret_int)\n",
    "    # return the result\n",
    "    return ret"
   ]
  },
  {
   "cell_type": "code",
   "execution_count": 19,
   "metadata": {},
   "outputs": [],
   "source": [
    "# feistel encryption function for layer i\n",
    "def feistel_encrypt(RE_prev, LE_prev, k_i):\n",
    "    '''\n",
    "    Implements feistel encryption\n",
    "    \n",
    "    arguments:\n",
    "    RE_prev -- round (i-1) right side of the output\n",
    "    LE_prev -- round (i-1) lest side of the output\n",
    "    k_i -- key used for round i\n",
    "    \n",
    "    return:\n",
    "    RE_i -- round i right side of encryption\n",
    "    LE_i -- round i lest side of encryption\n",
    "    '''\n",
    "    # calculate the left side LE_i\n",
    "    LE_i = RE_prev\n",
    "    \n",
    "    # calculate the right side RE_i\n",
    "    # convert to int\n",
    "    rf_int = int(round_function(RE_prev,k_i),2)\n",
    "    LE_prev_int = int(LE_prev,2)\n",
    "    # perform the xor\n",
    "    RE_i_int = rf_int^LE_prev_int\n",
    "    \n",
    "    # convert back to binary\n",
    "    RE_i = bin(RE_i_int)\n",
    "    \n",
    "    # return the output\n",
    "    return RE_i, LE_i\n",
    "    "
   ]
  },
  {
   "cell_type": "code",
   "execution_count": 20,
   "metadata": {},
   "outputs": [],
   "source": [
    "# set RE_prev to binary representation of DE7F\n",
    "RE_prev = bin(0xDE7F)\n",
    "# set LE_prev to bunary representation of 03A6\n",
    "LE_prev = bin(0x03A6)\n",
    "# set k_i to binary representation of 12DE52\n",
    "k_i = bin(0x12DE52)\n",
    "# run the feistel encrypt\n",
    "RE_c, LE_c = feistel_encrypt(RE_prev, LE_prev, k_i)"
   ]
  },
  {
   "cell_type": "code",
   "execution_count": 21,
   "metadata": {},
   "outputs": [
    {
     "name": "stdout",
     "output_type": "stream",
     "text": [
      "1236562\n"
     ]
    }
   ],
   "source": [
    "print(int(k_i,2))"
   ]
  },
  {
   "cell_type": "code",
   "execution_count": null,
   "metadata": {},
   "outputs": [],
   "source": []
  },
  {
   "cell_type": "code",
   "execution_count": 22,
   "metadata": {},
   "outputs": [
    {
     "name": "stdout",
     "output_type": "stream",
     "text": [
      "0b1000001100110001001110110010100001000\n",
      "70433334536\n",
      "0x1066276508\n"
     ]
    }
   ],
   "source": [
    "#encrypted after one round\n",
    "print(RE_c)\n",
    "print(int(RE_c, 2))\n",
    "print(hex(int(RE_c,2)))"
   ]
  },
  {
   "cell_type": "code",
   "execution_count": 23,
   "metadata": {},
   "outputs": [
    {
     "name": "stdout",
     "output_type": "stream",
     "text": [
      "0b1101111001111111\n",
      "56959\n",
      "0xde7f\n"
     ]
    }
   ],
   "source": [
    "print(LE_c)\n",
    "print(int(LE_c,2))\n",
    "print(hex(int(LE_c,2)))"
   ]
  },
  {
   "cell_type": "code",
   "execution_count": 24,
   "metadata": {},
   "outputs": [],
   "source": [
    "def feistel_decrypt(RE_prev, LE_prev, k_i):\n",
    "    LE_i = RE_prev\n",
    "    rf_int = int(round_function(RE_prev,k_i),2)\n",
    "    LE_prev_int = int(LE_prev,2)\n",
    "    RE_i_int = rf_int^LE_prev_int\n",
    "    RE_i = bin(RE_i_int)\n",
    "    return RE_i, LE_i"
   ]
  },
  {
   "cell_type": "code",
   "execution_count": 25,
   "metadata": {},
   "outputs": [],
   "source": [
    "#decryption function for one round\n",
    "#feed back the cipher values in reverse order\n",
    "#for multiple rounds keep track of K and feed in reverse order\n",
    "LE_p, RE_p = feistel_decrypt(LE_c, RE_c, k_i)"
   ]
  },
  {
   "cell_type": "code",
   "execution_count": 26,
   "metadata": {},
   "outputs": [
    {
     "name": "stdout",
     "output_type": "stream",
     "text": [
      "56959\n"
     ]
    },
    {
     "data": {
      "text/plain": [
       "'0xde7f'"
      ]
     },
     "execution_count": 26,
     "metadata": {},
     "output_type": "execute_result"
    }
   ],
   "source": [
    "RE_plain = int(RE_p, 2)\n",
    "print(RE_plain)\n",
    "bin(RE_plain)\n",
    "hex(RE_plain)"
   ]
  },
  {
   "cell_type": "code",
   "execution_count": 27,
   "metadata": {},
   "outputs": [
    {
     "name": "stdout",
     "output_type": "stream",
     "text": [
      "934\n"
     ]
    },
    {
     "data": {
      "text/plain": [
       "'0x3a6'"
      ]
     },
     "execution_count": 27,
     "metadata": {},
     "output_type": "execute_result"
    }
   ],
   "source": [
    "LE_plain = int(LE_p, 2)\n",
    "print(LE_plain)\n",
    "bin(LE_plain)\n",
    "hex(LE_plain)"
   ]
  },
  {
   "cell_type": "code",
   "execution_count": null,
   "metadata": {},
   "outputs": [],
   "source": []
  },
  {
   "cell_type": "code",
   "execution_count": null,
   "metadata": {},
   "outputs": [],
   "source": []
  }
 ],
 "metadata": {
  "kernelspec": {
   "display_name": "Python 3",
   "language": "python",
   "name": "python3"
  },
  "language_info": {
   "codemirror_mode": {
    "name": "ipython",
    "version": 3
   },
   "file_extension": ".py",
   "mimetype": "text/x-python",
   "name": "python",
   "nbconvert_exporter": "python",
   "pygments_lexer": "ipython3",
   "version": "3.5.6"
  }
 },
 "nbformat": 4,
 "nbformat_minor": 2
}
