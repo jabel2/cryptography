{
 "cells": [
  {
   "cell_type": "code",
   "execution_count": 94,
   "metadata": {},
   "outputs": [],
   "source": [
    "from pprint import pprint"
   ]
  },
  {
   "cell_type": "code",
   "execution_count": 117,
   "metadata": {},
   "outputs": [
    {
     "name": "stdout",
     "output_type": "stream",
     "text": [
      "{'a': 0,\n",
      " 'b': 1,\n",
      " 'c': 2,\n",
      " 'd': 3,\n",
      " 'e': 4,\n",
      " 'f': 5,\n",
      " 'g': 6,\n",
      " 'h': 7,\n",
      " 'i': 8,\n",
      " 'j': 9,\n",
      " 'k': 10,\n",
      " 'l': 11,\n",
      " 'm': 12,\n",
      " 'n': 13,\n",
      " 'o': 14,\n",
      " 'p': 15,\n",
      " 'q': 16,\n",
      " 'r': 17,\n",
      " 's': 18,\n",
      " 't': 19,\n",
      " 'u': 20,\n",
      " 'v': 21,\n",
      " 'w': 22,\n",
      " 'x': 23,\n",
      " 'y': 24,\n",
      " 'z': 25}\n",
      "{'A': 0,\n",
      " 'B': 1,\n",
      " 'C': 2,\n",
      " 'D': 3,\n",
      " 'E': 4,\n",
      " 'F': 5,\n",
      " 'G': 6,\n",
      " 'H': 7,\n",
      " 'I': 8,\n",
      " 'J': 9,\n",
      " 'K': 10,\n",
      " 'L': 11,\n",
      " 'M': 12,\n",
      " 'N': 13,\n",
      " 'O': 14,\n",
      " 'P': 15,\n",
      " 'Q': 16,\n",
      " 'R': 17,\n",
      " 'S': 18,\n",
      " 'T': 19,\n",
      " 'U': 20,\n",
      " 'V': 21,\n",
      " 'W': 22,\n",
      " 'X': 23,\n",
      " 'Y': 24,\n",
      " 'Z': 25}\n"
     ]
    }
   ],
   "source": [
    "char_set_lower = {}\n",
    "char_set_upper = {}\n",
    "for ctr in range (0,26):\n",
    "    ch = chr(ctr + 97)\n",
    "    char_set_lower[ch] = ctr\n",
    "pprint(char_set_lower)\n",
    "\n",
    "for ctr in range (0,26):\n",
    "    ch = chr(ctr + 65)\n",
    "    char_set_upper[ch] = ctr\n",
    "pprint(char_set_upper)\n",
    "    "
   ]
  },
  {
   "cell_type": "code",
   "execution_count": 118,
   "metadata": {},
   "outputs": [],
   "source": [
    "def caesar_encrypt(p, k):\n",
    "    C = (p + k) % 26\n",
    "    return C"
   ]
  },
  {
   "cell_type": "code",
   "execution_count": 129,
   "metadata": {},
   "outputs": [],
   "source": [
    "def caesar_encrypt_msg(plain_text,k):\n",
    "    cipher_text = ''\n",
    "    #if want to remove all spaces\n",
    "    #plain_text = plain_text.replace(' ', '')\n",
    "    for letter in plain_text:\n",
    "        if letter == ' ':\n",
    "            cipher_text += ' '\n",
    "        else:\n",
    "            p = char_set_lower[letter]\n",
    "            C = chr(caesar_encrypt(p, k) + 65)\n",
    "            cipher_text += C\n",
    "    return cipher_text"
   ]
  },
  {
   "cell_type": "code",
   "execution_count": 130,
   "metadata": {},
   "outputs": [
    {
     "name": "stdout",
     "output_type": "stream",
     "text": [
      "KHOOR KRZ DUH BRX\n"
     ]
    }
   ],
   "source": [
    "cipher_text = caesar_encrypt_msg('hello how are you', 3)\n",
    "print(cipher_text)"
   ]
  },
  {
   "cell_type": "code",
   "execution_count": 171,
   "metadata": {},
   "outputs": [],
   "source": [
    "def caesar_decrypt_msg(cipher_text,k):\n",
    "    decrypt_text = ''\n",
    "    #if want to remove all spaces\n",
    "    #plain_text = plain_text.replace(' ', '')\n",
    "    for letter in cipher_text:\n",
    "        if letter == ' ':\n",
    "            decrypt_text += ' '\n",
    "        else:\n",
    "            p = char_set_upper[letter]\n",
    "            C = chr(caesar_decrypt(p, k) + 97)\n",
    "            decrypt_text += C\n",
    "    return decrypt_text"
   ]
  },
  {
   "cell_type": "code",
   "execution_count": 172,
   "metadata": {},
   "outputs": [],
   "source": [
    "def caesar_decrypt(p,k):\n",
    "    C = (p - k) % 26\n",
    "    return C\n",
    "    "
   ]
  },
  {
   "cell_type": "code",
   "execution_count": 173,
   "metadata": {},
   "outputs": [
    {
     "name": "stdout",
     "output_type": "stream",
     "text": [
      "hello how are you\n"
     ]
    }
   ],
   "source": [
    "plain_text = caesar_decrypt_msg(cipher_text, 3)\n",
    "print(plain_text)"
   ]
  },
  {
   "cell_type": "code",
   "execution_count": null,
   "metadata": {},
   "outputs": [],
   "source": []
  }
 ],
 "metadata": {
  "kernelspec": {
   "display_name": "Python 3",
   "language": "python",
   "name": "python3"
  },
  "language_info": {
   "codemirror_mode": {
    "name": "ipython",
    "version": 3
   },
   "file_extension": ".py",
   "mimetype": "text/x-python",
   "name": "python",
   "nbconvert_exporter": "python",
   "pygments_lexer": "ipython3",
   "version": "3.5.6"
  }
 },
 "nbformat": 4,
 "nbformat_minor": 2
}
