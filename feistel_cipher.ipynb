{
 "cells": [
  {
   "cell_type": "code",
   "execution_count": 1,
   "metadata": {},
   "outputs": [],
   "source": [
    "import hashlib\n",
    "import hmac\n",
    "import math\n",
    "import os\n",
    "import random\n",
    "random.seed(5)"
   ]
  },
  {
   "cell_type": "markdown",
   "metadata": {},
   "source": [
    "# Feistel Cipher\n",
    "\n",
    "In cryptography, a Feistel cipher is a symmetric structure used in the construction of block ciphers, named after the German IBM cryptographer Horst Feistel; it is also commonly known as a Feistel network. A large set of block ciphers use the scheme, including the Data Encryption Standard. The Feistel structure has the advantage that encryption and decryption operations are very similar, even identical in some cases, requiring only a reversal of the key schedule. Therefore the size of the code or circuitry required to implement such a cipher is nearly halved. Feistel construction is iterative in nature which makes implementing the cryptosystem in hardware easier. "
   ]
  },
  {
   "cell_type": "markdown",
   "metadata": {},
   "source": [
    "## Encryption Process\n",
    "\n",
    "The encryption process uses the Feistel structure consisting multiple rounds of processing of the plaintext, each round consisting of a “substitution” step followed by a permutation step.\n",
    "\n",
    "Feistel Structure is shown in the following illustration:\n",
    "\n",
    "<img src='images/feistel_structure.jpg' >"
   ]
  },
  {
   "cell_type": "markdown",
   "metadata": {},
   "source": [
    "### XOR Functions\n",
    "In this notebook, we assume that the data are in **binary** format. Implement the XOR function to xor two bytes.\n"
   ]
  },
  {
   "cell_type": "code",
   "execution_count": 2,
   "metadata": {},
   "outputs": [],
   "source": [
    "# xor two strings\n",
    "def xor(b1, b2):\n",
    "    # create empty string for the output\n",
    "    ret = ''\n",
    "    \n",
    "    # create empty list \n",
    "    result = []\n",
    "    \n",
    "    # go through each bit of the bytes and xor them\n",
    "    for bit1, bit2 in zip(b1, b2):\n",
    "        #xor two bits\n",
    "        xor_bit = bit1 ^ bit2\n",
    "        \n",
    "        # convert it into bytes format\n",
    "        xor_bytes = bytes([xor_bit])\n",
    "                          \n",
    "        # append it to the result\n",
    "        result.append(xor_bytes)\n",
    "\n",
    "        \n",
    "        \n",
    "    # convert result list into binary string using b''.join()    \n",
    "        ret =  b''.join(result)\n",
    "    \n",
    "    # return the string\n",
    "    return ret\n"
   ]
  },
  {
   "cell_type": "code",
   "execution_count": 3,
   "metadata": {},
   "outputs": [
    {
     "name": "stdout",
     "output_type": "stream",
     "text": [
      "s1 xor s2 xor s2:  A\n",
      "s1 xor s2:  b'\\x03'\n"
     ]
    }
   ],
   "source": [
    "s1 = bytes('A'.encode())\n",
    "s2 = bytes('B'.encode())\n",
    "s1_xor_s2 = xor(s1,s2)\n",
    "print('s1 xor s2 xor s2: ', xor(s1_xor_s2, s2).decode())\n",
    "print('s1 xor s2: ', s1_xor_s2)"
   ]
  },
  {
   "cell_type": "markdown",
   "metadata": {},
   "source": [
    "** Expected Output: **\n",
    "<table>\n",
    "  <tr>\n",
    "      <td> s1 xor s2 xor s2 </td>\n",
    "      <td> A </td>\n",
    "  </tr>\n",
    "  <tr>\n",
    "      <td> s1 xor s2 </td>\n",
    "      <td> b'\\x03' </td>\n",
    "  </tr>\n",
    "</table>"
   ]
  },
  {
   "cell_type": "markdown",
   "metadata": {},
   "source": [
    "### Create plain text blocks\n",
    "Implement `create_block` to create message blocks from an input source. the length of each block is specified by the parameter *block_size*.   "
   ]
  },
  {
   "cell_type": "code",
   "execution_count": 4,
   "metadata": {},
   "outputs": [],
   "source": [
    "def create_block(source, block_size=8):\n",
    "    # define empty block_list\n",
    "    block_list = []\n",
    "    \n",
    "    # get the length of the source\n",
    "    source_length = len(source)\n",
    "    \n",
    "    # go through the \n",
    "    for i in range(0, source_length - block_size, block_size):\n",
    "        # get the block of the source \n",
    "        source_block = source[i:i+block_size]\n",
    "        \n",
    "        # append to the block list \n",
    "        block_list.append(source_block)\n",
    "        \n",
    "    \n",
    "    # get the index for the last block\n",
    "    last_block_index = math.floor(source_length/block_size) *  block_size\n",
    "    \n",
    "    # add the remaining source to the last block\n",
    "    last_block = source[last_block_index:]\n",
    "    \n",
    "    # get the length of the last block\n",
    "    last_block_len = len(last_block)\n",
    "    \n",
    "    # if the length of the last block is not equal to the block size\n",
    "    # pad spaces to the end of the block\n",
    "    for i in range(last_block_len, block_size):\n",
    "        last_block+= bytes(\" \".encode())\n",
    "    \n",
    "    \n",
    "    # add the last block to the block list\n",
    "    block_list.append(last_block)\n",
    "   \n",
    "    # return the block list\n",
    "    return block_list\n"
   ]
  },
  {
   "cell_type": "code",
   "execution_count": 5,
   "metadata": {},
   "outputs": [
    {
     "name": "stdout",
     "output_type": "stream",
     "text": [
      "block_list:  [b'Hello Wo', b'rld!    ']\n"
     ]
    }
   ],
   "source": [
    "source = bytes(\"Hello World!\".encode())\n",
    "block_list = create_block(source, block_size=8)\n",
    "print('block_list: ', block_list)"
   ]
  },
  {
   "cell_type": "markdown",
   "metadata": {},
   "source": [
    "** Expected Output: **\n",
    "<table>\n",
    "  <tr>\n",
    "      <td> block_list: </td>\n",
    "      <td> [b'Hello Wo', b'rld!    '] </td>\n",
    "    </tr>\n",
    "</table>"
   ]
  },
  {
   "cell_type": "markdown",
   "metadata": {},
   "source": [
    "### Round Function\n",
    "Implement `scramble()` that uses the SHA algorithm to perform has on the input message and the key. We use the *hmac* and *hashlib* Python libraries."
   ]
  },
  {
   "cell_type": "code",
   "execution_count": 6,
   "metadata": {},
   "outputs": [],
   "source": [
    "def scramble(msg, key):\n",
    "    # create a hmac sha1 \n",
    "    h = hmac.new(key, msg, hashlib.sha1)\n",
    "    # Return first 8 bytes of the calculated hmac sha1 hash\n",
    "    return h.digest()[:8]\n"
   ]
  },
  {
   "cell_type": "code",
   "execution_count": 7,
   "metadata": {},
   "outputs": [
    {
     "name": "stdout",
     "output_type": "stream",
     "text": [
      "F =  b'I\\x0cf\\x11\\xfe\\xffx4'\n"
     ]
    }
   ],
   "source": [
    "x = bytes('Hello World!'.encode())\n",
    "i = 1\n",
    "k = bytes('C'.encode())\n",
    "F = scramble(x,k)\n",
    "print('F = ', F)"
   ]
  },
  {
   "cell_type": "markdown",
   "metadata": {},
   "source": [
    "** Expected Output: **\n",
    "<table>\n",
    "  <tr>\n",
    "      <td> F = </td>\n",
    "      <td> b'I\\x0cf\\x11\\xfe\\xffx4' </td>\n",
    "    </tr>\n",
    "</table>"
   ]
  },
  {
   "cell_type": "markdown",
   "metadata": {},
   "source": [
    "### Initial Key\n",
    "We generate 16 random cryptographic secure bytes as key using `os.urandom` function."
   ]
  },
  {
   "cell_type": "code",
   "execution_count": 8,
   "metadata": {},
   "outputs": [],
   "source": [
    "def key_256():\n",
    "    # encode unicode\n",
    "    key = os.urandom(16)\n",
    "    return key"
   ]
  },
  {
   "cell_type": "code",
   "execution_count": 9,
   "metadata": {},
   "outputs": [
    {
     "name": "stdout",
     "output_type": "stream",
     "text": [
      "key:  b'>n<R\\xf2~\\xfb\\xf7\\x00)b \\xdf\\x0e|('\n"
     ]
    }
   ],
   "source": [
    "print('key: ', key_256())"
   ]
  },
  {
   "cell_type": "markdown",
   "metadata": {},
   "source": [
    "### Round keys\n",
    "Implement `subkeygen` to pull the specific key for each round of the Feistel Cipher. "
   ]
  },
  {
   "cell_type": "code",
   "execution_count": 10,
   "metadata": {},
   "outputs": [],
   "source": [
    "def subkeygen(initial_key, i):\n",
    "    # encode the unicode\n",
    "    keys = ([bytes([k]) for k in initial_key])[:16]\n",
    "    return keys[i]"
   ]
  },
  {
   "cell_type": "code",
   "execution_count": 11,
   "metadata": {},
   "outputs": [
    {
     "name": "stdout",
     "output_type": "stream",
     "text": [
      "key_15:  b'%'\n"
     ]
    }
   ],
   "source": [
    "initial_key = key_256()\n",
    "k_15 = subkeygen(initial_key, 15)\n",
    "print('key_15: ', k_15)"
   ]
  },
  {
   "cell_type": "markdown",
   "metadata": {},
   "source": [
    "### Feistel round procedure\n",
    "Implement `feistel_round()` to implement the procedure for each round in Feistel Algorithm:\n",
    "\n",
    "- assign right input side to the left output\n",
    "- apply round function (F) on the right input\n",
    "- XOR the result with Left input and assign it to Right output\n",
    "- return left and right output"
   ]
  },
  {
   "cell_type": "code",
   "execution_count": 12,
   "metadata": {},
   "outputs": [],
   "source": [
    "def feistel_round(L_in, R_in, subkey):\n",
    "    # assign right input side to the left output\n",
    "    L_out = R_in\n",
    "    \n",
    "    # apply scramble function on the right input\n",
    "    R_scrambled = scramble(R_in, subkey)\n",
    "    \n",
    "    # XOR R_scrambled with Left input and assign it to Right output\n",
    "    R_out = xor(R_scrambled, L_in)\n",
    "    \n",
    "    # return left and right output\n",
    "    return L_out, R_out\n",
    "    \n",
    "    \n",
    "    "
   ]
  },
  {
   "cell_type": "code",
   "execution_count": 13,
   "metadata": {},
   "outputs": [
    {
     "name": "stdout",
     "output_type": "stream",
     "text": [
      "Encryption:\n",
      "L_out:  b'03A6'\n",
      "R_out:  b'1P\\x19G'\n",
      "Decryption:\n",
      "L_out:  b'03A6'\n",
      "R_out:  b'DE7F'\n"
     ]
    }
   ],
   "source": [
    "L_in = bytes('DE7F'.encode())\n",
    "R_in = bytes('03A6'.encode()) \n",
    "round_num = 15\n",
    "subkey = subkeygen(initial_key, round_num)\n",
    "L_out, R_out = feistel_round(L_in, R_in, subkey)\n",
    "\n",
    "print(\"Encryption:\")\n",
    "print(\"L_out: \", L_out)\n",
    "print(\"R_out: \", R_out)\n",
    "\n",
    "L_out, R_out = feistel_round(R_out, L_out, subkey)\n",
    "\n",
    "print(\"Decryption:\")\n",
    "print(\"L_out: \", L_out)\n",
    "print(\"R_out: \", R_out)\n",
    "\n"
   ]
  },
  {
   "cell_type": "markdown",
   "metadata": {},
   "source": [
    "** Expected Output: **\n",
    " Note: it is possible that the R_out is different in your output \n",
    "<table>\n",
    "  <tr>\n",
    "      <td> Encryption </td>\n",
    "      <td> L_out:  b'03A6'</td>\n",
    "      <td> R_out:  b'\\xe0\\xfd\\xeb5' </td>\n",
    "  </tr>\n",
    "  \n",
    "  <tr>\n",
    "      <td> Decryption </td>\n",
    "      <td> L_out:  b'03A6'</td>\n",
    "      <td> R_out:  b'DE7F' </td>\n",
    "  </tr>\n",
    "\n",
    "</table>"
   ]
  },
  {
   "cell_type": "markdown",
   "metadata": {},
   "source": [
    "### Feistel Cipher\n",
    "Implement `feistel_cipher()` to implement Feistel Algorithm to perform encryption and decryption:\n",
    "\n",
    "1. Split the message_block two left and right side\n",
    "2. Go through each round \n",
    "3. Get subkey using initial key and round iteration\n",
    "4. Perform Feistel round procedure\n",
    "5. Update the left and right input for the next round \n",
    "6. Set the left output of the last round as the the right side (vice versa)"
   ]
  },
  {
   "cell_type": "code",
   "execution_count": 14,
   "metadata": {},
   "outputs": [],
   "source": [
    "def feistel_cipher(key_initial,message_block, round_num, mode='encoding'):\n",
    "    \n",
    "    # create empty string for return ciphertext\n",
    "    output_block = ' '\n",
    "    \n",
    "    \n",
    "    # split the message_block two left and right side\n",
    "    # calculate the split_index\n",
    "    block_len = len(message_block)\n",
    "    split_index = int(block_len/2)\n",
    "    \n",
    "    \n",
    "    # get the intial Left and right sides   \n",
    "    L_in = message_block[:split_index]\n",
    "    R_in = message_block[split_index:block_len]\n",
    "    \n",
    "    \n",
    "    \n",
    "    # go through each round \n",
    "    for i in range(1,round_num):\n",
    "        \n",
    "        \n",
    "        # set the round_iteration number based on the encoding or decoding mode\n",
    "        round_iteration = i if mode == 'encoding' else round_num - i  \n",
    "        \n",
    "        \n",
    "        # generate subkey using initial key and round iteration\n",
    "        subkey = subkeygen(key_initial, round_iteration)\n",
    "        \n",
    "        # perform feistel round\n",
    "        L_out, R_out = feistel_round(L_in, R_in, subkey)\n",
    "        \n",
    "        \n",
    "        # update the left and right input for the next round \n",
    "        L_in = L_out\n",
    "        R_in = R_out\n",
    "        \n",
    "        #print(L_in)\n",
    "        #print(R_in)\n",
    "        #print(\" \")\n",
    "        \n",
    "       \n",
    "        \n",
    "    \n",
    "    # set the left output of the last round as the the right side (vice versa)\n",
    "    L = R_in\n",
    "    R = L_in\n",
    "    \n",
    "    # concatinate the final left and right   \n",
    "    output_block = L + R\n",
    "    \n",
    "    # return the block\n",
    "    return output_block"
   ]
  },
  {
   "cell_type": "code",
   "execution_count": 15,
   "metadata": {},
   "outputs": [
    {
     "name": "stdout",
     "output_type": "stream",
     "text": [
      "cipher_message:  b']^m\\x0e\\xca\\x93\\xddR'\n",
      "plain_message:  b'DE7F03A6'\n"
     ]
    }
   ],
   "source": [
    "message = bytes('DE7F03A6'.encode())\n",
    "round_num = 16\n",
    "# generate a 256 bit key based on key\n",
    "key_initial = key_256()\n",
    "\n",
    "cipher_message = feistel_cipher(key_initial,message, round_num)\n",
    "\n",
    "print(\"cipher_message: \",cipher_message)\n",
    "\n",
    "plain_message = feistel_cipher(key_initial,cipher_message, round_num, mode='decoding')\n",
    "\n",
    "print(\"plain_message: \" , plain_message)\n"
   ]
  },
  {
   "cell_type": "markdown",
   "metadata": {},
   "source": [
    "** Expected Output: **\n",
    "<table>\n",
    "  <tr>\n",
    "      <td> cipher_message </td>\n",
    "      <td>b'\\x8e\\x91m\\xebZ\\xa8\\x11\\x1d'</td>\n",
    "  </tr>\n",
    "  \n",
    "  <tr>\n",
    "      <td> plain_message </td>\n",
    "      <td> b'DE7F03A6'</td>\n",
    "  </tr>\n",
    "\n",
    "</table>"
   ]
  },
  {
   "cell_type": "markdown",
   "metadata": {},
   "source": [
    "### Encode and Decode a file content using Feistel Cipher\n",
    "Complete the following procedure to:\n",
    "\n",
    "1. open a file to read as binary\n",
    "2. create plain text message blocks from the file content\n",
    "3. encode the message blocks using Feistel encoder\n",
    "4. perform encoding for each block\n",
    "5. perform decoding for each block\n",
    "6. compare the original message with the decoded message to verify that the encoding/decoding is passed."
   ]
  },
  {
   "cell_type": "code",
   "execution_count": 16,
   "metadata": {},
   "outputs": [
    {
     "name": "stdout",
     "output_type": "stream",
     "text": [
      "file_content_length:  8693\n",
      "number of message blocks:  1087\n",
      "Decoding PASSED :)\n"
     ]
    }
   ],
   "source": [
    "# set file location\n",
    "# Update this location with your system path\n",
    "file_location = '/home/abel/Documents/154xb.txt'\n",
    "\n",
    "# open a file to read as binary\n",
    "f = open(file_location,'rb')\n",
    "\n",
    "# read the file content\n",
    "file_content = f.read()\n",
    "\n",
    "# close the file\n",
    "f.close()\n",
    "print('file_content_length: ', len(file_content))\n",
    "\n",
    "# create plain text message blocks from the file content\n",
    "# set block_size to be 8\n",
    "block_list = create_block(file_content, 8)\n",
    "print('number of message blocks: ', len(block_list))\n",
    "\n",
    "# encode the message blocks using feistel encoder\n",
    "# set the round number to 16\n",
    "round_num = 16\n",
    "\n",
    "# generate a 256 bit key based on key\n",
    "key_initial = key_256()\n",
    "\n",
    "# perform encoding for each block\n",
    "cipher_list = []\n",
    "for plain_message in block_list:\n",
    "\n",
    "    # perform feistel encryption\n",
    "    cipher_message = feistel_cipher(key_initial, plain_message, round_num, mode='encoding')\n",
    "    cipher_list.append(cipher_message)\n",
    "\n",
    "# perform decoding for each block\n",
    "decoded_block_list = []\n",
    "for cipher_message in cipher_list:\n",
    "    # perform feistel decryption\n",
    "    decoded_message = feistel_cipher(key_initial,cipher_message, round_num, mode='decoding')\n",
    "    decoded_block_list.append(decoded_message)\n",
    "\n",
    "# compare the original message with the decoded one\n",
    "passed = 0\n",
    "for original, decoded in zip(block_list, decoded_block_list):\n",
    "    if original == decoded:\n",
    "        passed += 1\n",
    "\n",
    "if passed == len(block_list):\n",
    "    print('Decoding PASSED :)')\n",
    "else:\n",
    "    print('Decoding FAILED :(')\n",
    "    \n"
   ]
  },
  {
   "cell_type": "markdown",
   "metadata": {},
   "source": [
    "** Expected Output: **\n",
    "<table>\n",
    "  <tr>\n",
    "      <td> file_content_length </td>\n",
    "      <td> 8693</td>\n",
    "  </tr>\n",
    "  \n",
    "  <tr>\n",
    "      <td> number of message blocks </td>\n",
    "      <td> 1087</td>\n",
    "  </tr> \n",
    "  <tr>\n",
    "    <td> Decoding PASSED :) </td>\n",
    "  </tr>\n",
    "\n",
    "</table>"
   ]
  },
  {
   "cell_type": "code",
   "execution_count": null,
   "metadata": {},
   "outputs": [],
   "source": []
  }
 ],
 "metadata": {
  "kernelspec": {
   "display_name": "Python 3",
   "language": "python",
   "name": "python3"
  },
  "language_info": {
   "codemirror_mode": {
    "name": "ipython",
    "version": 3
   },
   "file_extension": ".py",
   "mimetype": "text/x-python",
   "name": "python",
   "nbconvert_exporter": "python",
   "pygments_lexer": "ipython3",
   "version": "3.6.6"
  }
 },
 "nbformat": 4,
 "nbformat_minor": 2
}
