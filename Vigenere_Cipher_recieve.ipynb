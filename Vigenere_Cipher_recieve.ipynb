{
 "cells": [
  {
   "cell_type": "code",
   "execution_count": 42,
   "metadata": {},
   "outputs": [],
   "source": [
    "import socket\n",
    "import time\n",
    "\n",
    "cipher_text = ''\n",
    "key_text = 'keytext'"
   ]
  },
  {
   "cell_type": "code",
   "execution_count": 50,
   "metadata": {},
   "outputs": [],
   "source": [
    "def udp_reciever(UDP_IP, UDP_PORT):\n",
    "    sock = socket.socket(socket.AF_INET,socket.SOCK_DGRAM)\n",
    "    sock.bind((UDP_IP, UDP_PORT))\n",
    "    sock.settimeout(5)\n",
    "    while True:\n",
    "        try:\n",
    "            data, addr = sock.recvfrom(1024) # buffer size is 1024 bytes\n",
    "            cipher_text = data.decode()\n",
    "            print(\"received message:\", cipher_text)\n",
    "        except socket.timeout:\n",
    "            print(\"connection closed\")\n",
    "            break\n",
    "    sock.close()\n",
    "    return cipher_text"
   ]
  },
  {
   "cell_type": "code",
   "execution_count": 44,
   "metadata": {},
   "outputs": [],
   "source": [
    "def char_map():\n",
    "    char_map_lower = {}\n",
    "    char_map_upper = {}\n",
    "    for ctr in range (0,26):\n",
    "        ch = chr(ctr + 97)\n",
    "        char_map_lower[ch] = ctr\n",
    "\n",
    "    for ctr in range (0,26):\n",
    "        ch = chr(ctr + 65)\n",
    "        char_map_upper[ch] = ctr\n",
    "        \n",
    "    return char_map_lower, char_map_upper"
   ]
  },
  {
   "cell_type": "code",
   "execution_count": 45,
   "metadata": {},
   "outputs": [],
   "source": [
    "def vigenere_cipher_decrypt(key_text_phrase, cipher_text):\n",
    "    ctr2 = 0\n",
    "    plain_text = ''\n",
    "    for ctr in cipher_text:\n",
    "        ct_map = char_map_upper[ctr]\n",
    "        kt_map = char_map_lower[key_text_phrase[ctr2]]\n",
    "        pt_map = (ct_map - kt_map) % 26\n",
    "        plain_text += chr(pt_map + 65)\n",
    "        ctr2 += 1\n",
    "    return plain_text"
   ]
  },
  {
   "cell_type": "code",
   "execution_count": 46,
   "metadata": {},
   "outputs": [],
   "source": [
    "def gen_key_text_phrase(key_text):\n",
    "    ctr = 0\n",
    "    ctr2 = 0\n",
    "    key_text_phrase = ''\n",
    "    for ctr in range(0,len(cipher_text)):    \n",
    "        if ctr2 == len(key_text):\n",
    "            ctr2 = 0\n",
    "            key_text_phrase += key_text[ctr2]\n",
    "        else:\n",
    "            key_text_phrase += key_text[ctr2]\n",
    "        ctr2 += 1\n",
    "    return key_text_phrase"
   ]
  },
  {
   "cell_type": "code",
   "execution_count": 49,
   "metadata": {},
   "outputs": [
    {
     "ename": "OSError",
     "evalue": "[Errno 99] Cannot assign requested address",
     "output_type": "error",
     "traceback": [
      "\u001b[0;31m---------------------------------------------------------------------------\u001b[0m",
      "\u001b[0;31mOSError\u001b[0m                                   Traceback (most recent call last)",
      "\u001b[0;32m<ipython-input-49-d94d22135518>\u001b[0m in \u001b[0;36m<module>\u001b[0;34m()\u001b[0m\n\u001b[0;32m----> 1\u001b[0;31m \u001b[0mudp_reciever\u001b[0m\u001b[0;34m(\u001b[0m\u001b[0;34m'10.75.238.181'\u001b[0m\u001b[0;34m,\u001b[0m \u001b[0;36m20000\u001b[0m\u001b[0;34m)\u001b[0m\u001b[0;34m\u001b[0m\u001b[0m\n\u001b[0m",
      "\u001b[0;32m<ipython-input-43-33a4ea9c286c>\u001b[0m in \u001b[0;36mudp_reciever\u001b[0;34m(UDP_IP, UDP_PORT)\u001b[0m\n\u001b[1;32m      1\u001b[0m \u001b[0;32mdef\u001b[0m \u001b[0mudp_reciever\u001b[0m\u001b[0;34m(\u001b[0m\u001b[0mUDP_IP\u001b[0m\u001b[0;34m,\u001b[0m \u001b[0mUDP_PORT\u001b[0m\u001b[0;34m)\u001b[0m\u001b[0;34m:\u001b[0m\u001b[0;34m\u001b[0m\u001b[0m\n\u001b[1;32m      2\u001b[0m     \u001b[0msock\u001b[0m \u001b[0;34m=\u001b[0m \u001b[0msocket\u001b[0m\u001b[0;34m.\u001b[0m\u001b[0msocket\u001b[0m\u001b[0;34m(\u001b[0m\u001b[0msocket\u001b[0m\u001b[0;34m.\u001b[0m\u001b[0mAF_INET\u001b[0m\u001b[0;34m,\u001b[0m\u001b[0msocket\u001b[0m\u001b[0;34m.\u001b[0m\u001b[0mSOCK_DGRAM\u001b[0m\u001b[0;34m)\u001b[0m\u001b[0;34m\u001b[0m\u001b[0m\n\u001b[0;32m----> 3\u001b[0;31m     \u001b[0msock\u001b[0m\u001b[0;34m.\u001b[0m\u001b[0mbind\u001b[0m\u001b[0;34m(\u001b[0m\u001b[0;34m(\u001b[0m\u001b[0mUDP_IP\u001b[0m\u001b[0;34m,\u001b[0m \u001b[0mUDP_PORT\u001b[0m\u001b[0;34m)\u001b[0m\u001b[0;34m)\u001b[0m\u001b[0;34m\u001b[0m\u001b[0m\n\u001b[0m\u001b[1;32m      4\u001b[0m     \u001b[0;32mwhile\u001b[0m \u001b[0;32mTrue\u001b[0m\u001b[0;34m:\u001b[0m\u001b[0;34m\u001b[0m\u001b[0m\n\u001b[1;32m      5\u001b[0m         \u001b[0mcipher_text\u001b[0m\u001b[0;34m,\u001b[0m \u001b[0maddr\u001b[0m \u001b[0;34m=\u001b[0m \u001b[0msock\u001b[0m\u001b[0;34m.\u001b[0m\u001b[0mrecvfrom\u001b[0m\u001b[0;34m(\u001b[0m\u001b[0;36m1024\u001b[0m\u001b[0;34m)\u001b[0m \u001b[0;31m# buffer size is 1024 bytes\u001b[0m\u001b[0;34m\u001b[0m\u001b[0m\n",
      "\u001b[0;31mOSError\u001b[0m: [Errno 99] Cannot assign requested address"
     ]
    }
   ],
   "source": [
    "cipher_text = udp_reciever('10.75.238.181', 20000)"
   ]
  },
  {
   "cell_type": "code",
   "execution_count": 51,
   "metadata": {},
   "outputs": [
    {
     "name": "stdout",
     "output_type": "stream",
     "text": [
      "Cipher Text:\n"
     ]
    }
   ],
   "source": [
    "print(\"Cipher Text: \" + cipher_text)"
   ]
  },
  {
   "cell_type": "code",
   "execution_count": 32,
   "metadata": {},
   "outputs": [
    {
     "name": "stdout",
     "output_type": "stream",
     "text": [
      "\n"
     ]
    }
   ],
   "source": [
    "key_text_phrase = gen_key_text_phrase(key_text)\n",
    "char_map_lower, char_map_upper = char_map()\n",
    "print(\"Ket Text: \" + key_text_phrase)"
   ]
  },
  {
   "cell_type": "code",
   "execution_count": 33,
   "metadata": {},
   "outputs": [
    {
     "name": "stdout",
     "output_type": "stream",
     "text": [
      "\n"
     ]
    }
   ],
   "source": [
    "print(\"Plain Text: \" + vigenere_cipher_decrypt(key_text_phrase, cipher_text))"
   ]
  },
  {
   "cell_type": "code",
   "execution_count": null,
   "metadata": {},
   "outputs": [],
   "source": []
  }
 ],
 "metadata": {
  "kernelspec": {
   "display_name": "Python 3",
   "language": "python",
   "name": "python3"
  },
  "language_info": {
   "codemirror_mode": {
    "name": "ipython",
    "version": 3
   },
   "file_extension": ".py",
   "mimetype": "text/x-python",
   "name": "python",
   "nbconvert_exporter": "python",
   "pygments_lexer": "ipython3",
   "version": "3.5.6"
  }
 },
 "nbformat": 4,
 "nbformat_minor": 2
}
