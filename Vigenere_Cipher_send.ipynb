{
 "cells": [
  {
   "cell_type": "code",
   "execution_count": 141,
   "metadata": {},
   "outputs": [],
   "source": [
    "#implement Vigenere Cipher Encryption/Decryption scheme.\n",
    "import socket"
   ]
  },
  {
   "cell_type": "code",
   "execution_count": 154,
   "metadata": {},
   "outputs": [],
   "source": [
    "def udp_sender(UDP_IP, UDP_PORT, MESSAGE):\n",
    "    sock = socket.socket(socket.AF_INET,socket.SOCK_DGRAM)\n",
    "    sock.sendto(MESSAGE, (UDP_IP, UDP_PORT))\n",
    "    sock.close()"
   ]
  },
  {
   "cell_type": "code",
   "execution_count": 143,
   "metadata": {},
   "outputs": [],
   "source": [
    "plain_text = 'hereismyplaintextsentence'\n",
    "key_text = 'keytext'\n",
    "cipher_text = ''"
   ]
  },
  {
   "cell_type": "code",
   "execution_count": 145,
   "metadata": {},
   "outputs": [],
   "source": [
    "def char_map():\n",
    "    char_map_lower = {}\n",
    "    char_map_upper = {}\n",
    "    for ctr in range (0,26):\n",
    "        ch = chr(ctr + 97)\n",
    "        char_map_lower[ch] = ctr\n",
    "\n",
    "    for ctr in range (0,26):\n",
    "        ch = chr(ctr + 65)\n",
    "        char_map_upper[ch] = ctr\n",
    "        \n",
    "    return char_map_lower, char_map_upper"
   ]
  },
  {
   "cell_type": "code",
   "execution_count": 146,
   "metadata": {},
   "outputs": [],
   "source": [
    "def vigenere_cipher_encrypt(key_text_phrase, plain_text):\n",
    "    ctr2 = 0\n",
    "    cipher_text = ''\n",
    "    for ctr in plain_text:\n",
    "        pt_map = char_map_lower[ctr]\n",
    "        kt_map = char_map_lower[key_text_phrase[ctr2]]\n",
    "        ct_map = (pt_map + kt_map) % 26\n",
    "        cipher_text += chr(ct_map + 65)\n",
    "        ctr2 += 1\n",
    "    return cipher_text  "
   ]
  },
  {
   "cell_type": "code",
   "execution_count": 147,
   "metadata": {},
   "outputs": [],
   "source": [
    "def gen_key_text_phrase(key_text):\n",
    "    ctr = 0\n",
    "    ctr2 = 0\n",
    "    key_text_phrase = ''\n",
    "    for ctr in range(0,len(plain_text)):    \n",
    "        if ctr2 == len(key_text):\n",
    "            ctr2 = 0\n",
    "            key_text_phrase += key_text[ctr2]\n",
    "        else:\n",
    "            key_text_phrase += key_text[ctr2]\n",
    "        ctr2 += 1\n",
    "    return key_text_phrase"
   ]
  },
  {
   "cell_type": "code",
   "execution_count": 148,
   "metadata": {},
   "outputs": [
    {
     "name": "stdout",
     "output_type": "stream",
     "text": [
      "keytextkeytextkeytextkeyt\n"
     ]
    }
   ],
   "source": [
    "key_text_phrase = gen_key_text_phrase(key_text)\n",
    "char_map_lower, char_map_upper = char_map()\n",
    "print(key_text_phrase)"
   ]
  },
  {
   "cell_type": "code",
   "execution_count": 149,
   "metadata": {},
   "outputs": [
    {
     "name": "stdout",
     "output_type": "stream",
     "text": [
      "RIPXMPFITJTMKMOBRLIKMORAX\n"
     ]
    }
   ],
   "source": [
    "cipher_text = vigenere_cipher_encrypt(key_text_phrase, plain_text)\n",
    "print(cipher_text)"
   ]
  },
  {
   "cell_type": "code",
   "execution_count": 156,
   "metadata": {},
   "outputs": [
    {
     "ename": "PermissionError",
     "evalue": "[Errno 13] Permission denied",
     "output_type": "error",
     "traceback": [
      "\u001b[0;31m---------------------------------------------------------------------------\u001b[0m",
      "\u001b[0;31mPermissionError\u001b[0m                           Traceback (most recent call last)",
      "\u001b[0;32m<ipython-input-156-3376978a3d29>\u001b[0m in \u001b[0;36m<module>\u001b[0;34m()\u001b[0m\n\u001b[0;32m----> 1\u001b[0;31m \u001b[0mudp_sender\u001b[0m\u001b[0;34m(\u001b[0m\u001b[0;34m'127.0.0.0'\u001b[0m\u001b[0;34m,\u001b[0m \u001b[0;36m20000\u001b[0m\u001b[0;34m,\u001b[0m \u001b[0mcipher_text\u001b[0m\u001b[0;34m.\u001b[0m\u001b[0mencode\u001b[0m\u001b[0;34m(\u001b[0m\u001b[0;34m)\u001b[0m\u001b[0;34m)\u001b[0m\u001b[0;34m\u001b[0m\u001b[0m\n\u001b[0m",
      "\u001b[0;32m<ipython-input-154-47e5902cf68b>\u001b[0m in \u001b[0;36mudp_sender\u001b[0;34m(UDP_IP, UDP_PORT, MESSAGE)\u001b[0m\n\u001b[1;32m      1\u001b[0m \u001b[0;32mdef\u001b[0m \u001b[0mudp_sender\u001b[0m\u001b[0;34m(\u001b[0m\u001b[0mUDP_IP\u001b[0m\u001b[0;34m,\u001b[0m \u001b[0mUDP_PORT\u001b[0m\u001b[0;34m,\u001b[0m \u001b[0mMESSAGE\u001b[0m\u001b[0;34m)\u001b[0m\u001b[0;34m:\u001b[0m\u001b[0;34m\u001b[0m\u001b[0m\n\u001b[1;32m      2\u001b[0m     \u001b[0msock\u001b[0m \u001b[0;34m=\u001b[0m \u001b[0msocket\u001b[0m\u001b[0;34m.\u001b[0m\u001b[0msocket\u001b[0m\u001b[0;34m(\u001b[0m\u001b[0msocket\u001b[0m\u001b[0;34m.\u001b[0m\u001b[0mAF_INET\u001b[0m\u001b[0;34m,\u001b[0m\u001b[0msocket\u001b[0m\u001b[0;34m.\u001b[0m\u001b[0mSOCK_DGRAM\u001b[0m\u001b[0;34m)\u001b[0m\u001b[0;34m\u001b[0m\u001b[0m\n\u001b[0;32m----> 3\u001b[0;31m     \u001b[0msock\u001b[0m\u001b[0;34m.\u001b[0m\u001b[0msendto\u001b[0m\u001b[0;34m(\u001b[0m\u001b[0mMESSAGE\u001b[0m\u001b[0;34m,\u001b[0m \u001b[0;34m(\u001b[0m\u001b[0mUDP_IP\u001b[0m\u001b[0;34m,\u001b[0m \u001b[0mUDP_PORT\u001b[0m\u001b[0;34m)\u001b[0m\u001b[0;34m)\u001b[0m\u001b[0;34m\u001b[0m\u001b[0m\n\u001b[0m",
      "\u001b[0;31mPermissionError\u001b[0m: [Errno 13] Permission denied"
     ]
    }
   ],
   "source": [
    "udp_sender('10.75.238.181', 20000, cipher_text.encode())"
   ]
  },
  {
   "cell_type": "code",
   "execution_count": null,
   "metadata": {},
   "outputs": [],
   "source": []
  },
  {
   "cell_type": "code",
   "execution_count": null,
   "metadata": {},
   "outputs": [],
   "source": []
  }
 ],
 "metadata": {
  "kernelspec": {
   "display_name": "Python 3",
   "language": "python",
   "name": "python3"
  },
  "language_info": {
   "codemirror_mode": {
    "name": "ipython",
    "version": 3
   },
   "file_extension": ".py",
   "mimetype": "text/x-python",
   "name": "python",
   "nbconvert_exporter": "python",
   "pygments_lexer": "ipython3",
   "version": "3.5.6"
  }
 },
 "nbformat": 4,
 "nbformat_minor": 2
}
